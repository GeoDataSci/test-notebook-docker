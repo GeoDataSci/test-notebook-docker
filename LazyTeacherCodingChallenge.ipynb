{
 "cells": [
  {
   "cell_type": "code",
   "execution_count": null,
   "metadata": {},
   "outputs": [],
   "source": []
  },
  {
   "cell_type": "markdown",
   "metadata": {
    "deletable": true,
    "editable": true
   },
   "source": [
    "# Coding Challenge - the Lazy Teacher\n",
    "\n",
    "Mr. Lazyteacher doesn’t want to grade 200 tests, so he writes a program that takes his list of students and randomly generates an integer grade between 65 and 96 for each student. The final output is a print of student names and grades that looks like this:\n",
    "\n",
    "Joe Example Student: Grade = 77\n",
    "Fred Example Student: Grade = 85\n",
    "Another Student: Grade = 66\n",
    "…\n",
    "\n",
    "What is the program he writes?"
   ]
  },
  {
   "cell_type": "code",
   "execution_count": 84,
   "metadata": {
    "collapsed": true,
    "deletable": true,
    "editable": true
   },
   "outputs": [],
   "source": [
    "# import module\n",
    "\n",
    "# list of names of students\n",
    "\n",
    "# loop throught the list\n",
    "\n",
    "# calculate random grade for each student"
   ]
  },
  {
   "cell_type": "markdown",
   "metadata": {
    "deletable": true,
    "editable": true
   },
   "source": [
    "at it's most simple, this would simply print out a list of names. A better version might edit the file with the student names and add a grade to it'"
   ]
  },
  {
   "cell_type": "code",
   "execution_count": 86,
   "metadata": {
    "collapsed": false,
    "deletable": true,
    "editable": true
   },
   "outputs": [
    {
     "name": "stdout",
     "output_type": "stream",
     "text": [
      "Nick got a 83 on the test\n",
      "Nicholas got a 81 on the test\n",
      "Nicky got a 93 on the test\n",
      "Big Nick got a 88 on the test\n",
      "The N-ster got a 71 on the test\n"
     ]
    }
   ],
   "source": [
    "# import module\n",
    "import random\n",
    "\n",
    "# list of names of students\n",
    "stdnts = ['Nick', 'Nicholas', 'Nicky', 'Big Nick', 'The N-ster']\n",
    "\n",
    "# loop throught the list\n",
    "for student in stdnts:\n",
    "   \n",
    "    # calculate random grade for each student\n",
    "    grade = random.randint(65,96)\n",
    "    \n",
    "    print('{} got a {} on the test'.format(student, grade))"
   ]
  }
 ],
 "metadata": {
  "kernelspec": {
   "display_name": "Python 2",
   "language": "python",
   "name": "python2"
  },
  "language_info": {
   "codemirror_mode": {
    "name": "ipython",
    "version": 2
   },
   "file_extension": ".py",
   "mimetype": "text/x-python",
   "name": "python",
   "nbconvert_exporter": "python",
   "pygments_lexer": "ipython2",
   "version": "2.7.13"
  }
 },
 "nbformat": 4,
 "nbformat_minor": 2
}
